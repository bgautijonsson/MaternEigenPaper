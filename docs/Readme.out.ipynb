{
 "cells": [
  {
   "cell_type": "markdown",
   "metadata": {},
   "source": [
    "# \n",
    "\n",
    "This repository contains the a work-in-progress manuscrips, which explores computational methods for Gaussian copulas using the GMRF approximation to the Matérn covariance function.\n",
    "\n",
    "The paper can be found here: https://bggj.is/MaternEigenPaper/\n",
    "\n",
    "An R package that implements these methods using `{Rcpp}` can be found here: https://github.com/bgautijonsson/stdmatern\n",
    "\n",
    "A repo that contains case studies using Stan to model processes with these methods can be found here: https://github.com/bgautijonsson/copulas"
   ],
   "id": "de0e5af8-603c-4b4c-b90d-4610ed59fef8"
  }
 ],
 "nbformat": 4,
 "nbformat_minor": 5,
 "metadata": {}
}
