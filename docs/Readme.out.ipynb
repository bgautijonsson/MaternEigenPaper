{
 "cells": [
  {
   "cell_type": "markdown",
   "metadata": {},
   "source": [
    "# \n",
    "\n",
    "This repository contains the a work-in-progress manuscrips, which explores computational methods for Gaussian copulas using the GMRF approximation to the Matérn covariance function.\n",
    "\n",
    "The paper can be found here: https://bggj.is/materneigenpaper/\n",
    "\n",
    "An R package that implements these methods using `{Rcpp}` can be found here: https://github.com/bgautijonsson/stdmatern\n",
    "\n",
    "A repo that contains case studies using Stan to model processes with these methods can be found here: https://github.com/bgautijonsson/copulas"
   ],
   "id": "b33b4ec9-3fa7-4ff0-9066-be7bfe1a15c2"
  }
 ],
 "nbformat": 4,
 "nbformat_minor": 5,
 "metadata": {}
}
